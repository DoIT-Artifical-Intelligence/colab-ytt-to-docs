{
  "nbformat": 4,
  "nbformat_minor": 0,
  "metadata": {
    "colab": {
      "provenance": []
    },
    "kernelspec": {
      "name": "python3",
      "display_name": "Python 3"
    },
    "language_info": {
      "name": "python"
    }
  },
  "cells": [
    {
      "cell_type": "markdown",
      "source": [
        "<a target=\"_blank\" href=\"https://colab.research.google.com/github/DoIT-Artifical-Intelligence/colab-ytt-to-docs/blob/main/Colab_YouTube_Transcription_Extractor.ipynb\">\n",
        "  <img src=\"https://colab.research.google.com/assets/colab-badge.svg\" alt=\"Open In Colab\"/>\n",
        "</a>"
      ],
      "metadata": {
        "id": "CxuqP8MjqeN-"
      }
    },
    {
      "cell_type": "code",
      "source": [
        "import os\n",
        "\n",
        "notebook_id = os.environ.get('COLAB_NOTEBOOK_ID', '')\n",
        "\n",
        "if 'github.com' in notebook_id:\n",
        "  raise Exception(\"This notebook must be run from Google Drive. Please save a copy to your Drive ('File' > 'Save a copy in Drive') and run it from there.\")"
      ],
      "metadata": {
        "id": "_UJq0ki8qQJR"
      },
      "execution_count": null,
      "outputs": []
    },
    {
      "cell_type": "code",
      "source": [
        "# Update the link and string below then hit \"Run all\"\n",
        "YOUTUBE_URL = \"https://www.youtube.com/watch?v=XXXXXXXXXXX\"",
        "VIDEO_TITLE_FALLBACK = \"INSERT VIDEO NAME\""
      ],
      "metadata": {
        "id": "tjP-tm3QZlkn"
      },
      "execution_count": null,
      "outputs": []
    },
    {
      "cell_type": "code",
      "source": [
        "video_id = YOUTUBE_URL.split(\"v=\")[-1]\n",
        "\n",
        "from google.auth import default\n",
        "from google.colab import auth\n",
        "from googleapiclient.discovery import build\n",
        "from google.colab import userdata\n",
        "\n",
        "auth.authenticate_user()\n",
        "creds, _ = default()\n",
        "docs_service = build('docs', 'v1', credentials=creds)\n",
        "\n",
        "try:\n",
        "    # To get a YOUTUBE_DATA_API_KEY go to\n",
        "    # https://console.cloud.google.com/marketplace/product/google/youtube.googleapis.com to enable the YouTube API\n",
        "    # Then go to https://console.cloud.google.com/apis/credentials to create an API key for YouTube Data API v3\n",
        "    youtube_service = build('youtube', 'v3', developerKey=userdata.get('YOUTUBE_DATA_API_KEY'))\n",
        "    request = youtube_service.videos().list(part=\"snippet\", id=video_id)\n",
        "    response = request.execute()\n",
        "    video_title = response[\"items\"][0][\"snippet\"][\"title\"]\n",
        "    print(f\"Video Title: {video_title}\")\n",
        "except Exception as e:\n",
        "    print(e)\n",
        "    video_title = VIDEO_TITLE_FALLBACK\n",
        "    if video_title == \"INSERT VIDEO NAME\":\n",
        "        raise ValueError(\"Please replace 'INSERT VIDEO NAME' manually and re-run the cell.\")"
      ],
      "metadata": {
        "id": "NOEDF3vj6tIp"
      },
      "execution_count": null,
      "outputs": []
    },
    {
      "cell_type": "code",
      "source": [
        "!pip install youtube-transcript-api\n",
        "# https://github.com/jdepoix/youtube-transcript-api\n",
        "from youtube_transcript_api import YouTubeTranscriptApi\n",
        "ytt_api = YouTubeTranscriptApi()"
      ],
      "metadata": {
        "id": "nJCw1Ge9mJ1R"
      },
      "execution_count": null,
      "outputs": []
    },
    {
      "cell_type": "code",
      "source": [
        "transcript = ytt_api.fetch(video_id, languages=('en', 'en-US'))"
      ],
      "metadata": {
        "id": "NWvc2bUEj0bP"
      },
      "execution_count": null,
      "outputs": []
    },
    {
      "cell_type": "code",
      "source": [
        "data = transcript.to_raw_data()\n",
        "content = \"\"\n",
        "for i in data:\n",
        "  content += i[\"text\"] + \"\\n\""
      ],
      "metadata": {
        "id": "c3sqw-67hJvL"
      },
      "execution_count": null,
      "outputs": []
    },
    {
      "cell_type": "code",
      "source": [
        "content"
      ],
      "metadata": {
        "id": "YahDc89bY4Ou"
      },
      "execution_count": null,
      "outputs": []
    },
    {
      "cell_type": "code",
      "source": [
        "doc = docs_service.documents().create(body={'title': video_title + \" Transcript\"}).execute()\n",
        "document_id = doc.get('documentId')\n",
        "requests = [{'insertText': {'location': {'index': 1}, 'text': content}}]\n",
        "_ = docs_service.documents().batchUpdate(documentId=document_id, body={'requests': requests}).execute()\n",
        "print(f\"Shareable link: https://docs.google.com/document/d/{document_id}/edit\")"
      ],
      "metadata": {
        "id": "ybvppMHRYKGR"
      },
      "execution_count": null,
      "outputs": []
    },
    {
      "cell_type": "code",
      "source": [],
      "metadata": {
        "id": "EThiMIdpw4Te"
      },
      "execution_count": null,
      "outputs": []
    }
  ]
}
