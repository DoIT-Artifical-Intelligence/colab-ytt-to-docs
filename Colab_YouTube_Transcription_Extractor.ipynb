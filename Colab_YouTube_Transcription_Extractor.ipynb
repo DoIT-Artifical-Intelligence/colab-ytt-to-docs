{
  "cells": [
    {
      "cell_type": "markdown",
      "metadata": {
        "id": "CxuqP8MjqeN-"
      },
      "source": [
        "<a target=\"_blank\" href=\"https://colab.research.google.com/github/DoIT-Artifical-Intelligence/colab-ytt-to-docs/blob/main/Colab_YouTube_Transcription_Extractor.ipynb\">\n",
        "  <img src=\"https://colab.research.google.com/assets/colab-badge.svg\" alt=\"Open In Colab\"/>\n",
        "</a>"
      ]
    },
    {
      "cell_type": "code",
      "execution_count": null,
      "metadata": {
        "id": "_UJq0ki8qQJR"
      },
      "outputs": [],
      "source": [
        "import os\n",
        "\n",
        "notebook_id = os.environ.get(\"COLAB_NOTEBOOK_ID\", \"\")\n",
        "\n",
        "if \"github.com\" in notebook_id:\n",
        "    raise Exception(\n",
        "        \"This notebook must be run from Google Drive. \"\n",
        "        \"Please save a copy to your Drive ('File' > 'Save a copy in Drive') and run it from there.\"\n",
        "    )"
      ]
    },
    {
      "cell_type": "code",
      "execution_count": null,
      "metadata": {
        "id": "tjP-tm3QZlkn"
      },
      "outputs": [],
      "source": [
        "# Update the link for the YouTuve video and the title (required if you don't have YOUTUBE_DATA_API_KEY set).\n",
        "# Hit \"Run all\"\n",
        "YOUTUBE_URL = \"https://www.youtube.com/watch?v=XXXXXXXXXXX\"\n",
        "VIDEO_TITLE_FALLBACK = \"INSERT VIDEO NAME\""
      ]
    },
    {
      "cell_type": "code",
      "execution_count": null,
      "metadata": {
        "id": "NOEDF3vj6tIp"
      },
      "outputs": [],
      "source": [
        "video_id = YOUTUBE_URL.split(\"v=\")[-1]\n",
        "\n",
        "from google.auth import default\n",
        "from google.colab import auth\n",
        "from googleapiclient.discovery import build\n",
        "from google.colab import userdata\n",
        "\n",
        "auth.authenticate_user()\n",
        "creds, _ = default()\n",
        "docs_service = build(\"docs\", \"v1\", credentials=creds)\n",
        "\n",
        "try:\n",
        "    # To get a YOUTUBE_DATA_API_KEY go to\n",
        "    # https://console.cloud.google.com/marketplace/product/google/youtube.googleapis.com to enable the YouTube API\n",
        "    # Then go to https://console.cloud.google.com/apis/credentials to create an API key for YouTube Data API v3\n",
        "    # Go to the Secrets on the left (image of a key) and your YouTube Data API Key there.\n",
        "    youtube_service = build(\n",
        "        \"youtube\", \"v3\", developerKey=userdata.get(\"YOUTUBE_DATA_API_KEY\")\n",
        "    )\n",
        "    request = youtube_service.videos().list(part=\"snippet\", id=video_id)\n",
        "    response = request.execute()\n",
        "    video_title = response[\"items\"][0][\"snippet\"][\"title\"]\n",
        "    print(f\"Video Title: {video_title}\")\n",
        "except Exception as e:\n",
        "    print(e)\n",
        "    video_title = VIDEO_TITLE_FALLBACK\n",
        "    if video_title == \"INSERT VIDEO NAME\":\n",
        "        raise ValueError(\n",
        "            \"Please replace 'INSERT VIDEO NAME' manually and re-run the cell.\"\n",
        "        )"
      ]
    },
    {
      "cell_type": "code",
      "execution_count": null,
      "metadata": {
        "id": "nJCw1Ge9mJ1R"
      },
      "outputs": [],
      "source": [
        "!pip install youtube-transcript-api --quiet\n",
        "# https://github.com/jdepoix/youtube-transcript-api\n",
        "from youtube_transcript_api import YouTubeTranscriptApi\n",
        "ytt_api = YouTubeTranscriptApi()"
      ]
    },
    {
      "cell_type": "code",
      "execution_count": null,
      "metadata": {
        "id": "NWvc2bUEj0bP"
      },
      "outputs": [],
      "source": [
        "transcript = ytt_api.fetch(video_id, languages=('en', 'en-US'))"
      ]
    },
    {
      "cell_type": "code",
      "execution_count": null,
      "metadata": {
        "id": "c3sqw-67hJvL"
      },
      "outputs": [],
      "source": [
        "data = transcript.to_raw_data()\n",
        "len_data = len(data)\n",
        "content = \"\"\n",
        "for index, _data in enumerate(data):\n",
        "    if index + 1 == len_data:\n",
        "        content += _data[\"text\"]\n",
        "    else:\n",
        "        content += _data[\"text\"] + \" \""
      ]
    },
    {
      "cell_type": "code",
      "execution_count": null,
      "metadata": {
        "id": "YahDc89bY4Ou"
      },
      "outputs": [],
      "source": [
        "content"
      ]
    },
    {
      "cell_type": "code",
      "execution_count": null,
      "metadata": {
        "id": "ybvppMHRYKGR"
      },
      "outputs": [],
      "source": [
        "doc = (\n",
        "    docs_service.documents()\n",
        "    .create(body={\"title\": video_title + \" Transcript\"})\n",
        "    .execute()\n",
        ")\n",
        "document_id = doc.get(\"documentId\")\n",
        "requests = [{\"insertText\": {\"location\": {\"index\": 1}, \"text\": content}}]\n",
        "docs_service.documents().batchUpdate(\n",
        "    documentId=document_id, body={\"requests\": requests}\n",
        ").execute()\n",
        "print(f\"Shareable link: https://docs.google.com/document/d/{document_id}/edit\")"
      ]
    },
    {
      "cell_type": "code",
      "execution_count": null,
      "metadata": {
        "id": "EThiMIdpw4Te"
      },
      "outputs": [],
      "source": []
    }
  ],
  "metadata": {
    "colab": {
      "provenance": []
    },
    "kernelspec": {
      "display_name": "Python 3",
      "name": "python3"
    },
    "language_info": {
      "name": "python"
    }
  },
  "nbformat": 4,
  "nbformat_minor": 0
}
