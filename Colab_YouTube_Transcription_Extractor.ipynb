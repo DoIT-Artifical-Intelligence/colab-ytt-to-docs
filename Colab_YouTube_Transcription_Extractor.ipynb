{
  "nbformat": 4,
  "nbformat_minor": 0,
  "metadata": {
    "colab": {
      "provenance": []
    },
    "kernelspec": {
      "name": "python3",
      "display_name": "Python 3"
    },
    "language_info": {
      "name": "python"
    }
  },
  "cells": [
    {
      "cell_type": "markdown",
      "source": [
        "<a target=\"_blank\" href=\"https://colab.research.google.com/github/DoIT-Artifical-Intelligence/colab-ytt-to-docs/blob/main/Colab_YouTube_Transcription_Extractor.ipynb\">\n",
        "  <img src=\"https://colab.research.google.com/assets/colab-badge.svg\" alt=\"Open In Colab\"/>\n",
        "</a>"
      ],
      "metadata": {
        "id": "CxuqP8MjqeN-"
      }
    },
    {
      "cell_type": "code",
      "source": [
        "import os\n",
        "\n",
        "notebook_id = os.environ.get('COLAB_NOTEBOOK_ID', '')\n",
        "\n",
        "if 'github.com' in notebook_id:\n",
        "  raise Exception(\"This notebook must be run from Google Drive. Please save a copy to your Drive ('File' > 'Save a copy in Drive') and run it from there.\")"
      ],
      "metadata": {
        "id": "_UJq0ki8qQJR"
      },
      "execution_count": null,
      "outputs": []
    },
    {
      "cell_type": "code",
      "source": [
        "# Update the link below then hit \"Run all\"\n",
        "YOUTUBE_URL = \"https://www.youtube.com/watch?v=b6YC15N1BMk\""
      ],
      "metadata": {
        "id": "tjP-tm3QZlkn"
      },
      "execution_count": null,
      "outputs": []
    },
    {
      "cell_type": "code",
      "source": [
        "video_id = YOUTUBE_URL.split(\"v=\")[-1]\n",
        "\n",
        "from google.auth import default\n",
        "from google.colab import auth\n",
        "from googleapiclient.discovery import build\n",
        "from google.colab import userdata\n",
        "\n",
        "auth.authenticate_user()\n",
        "creds, _ = default()\n",
        "docs_service = build('docs', 'v1', credentials=creds)\n",
        "\n",
        "try:\n",
        "    youtube_service = build('youtube', 'v3', developerKey=userdata.get('YOUTUBE_DATA_API_KEY'))\n",
        "    request = youtube_service.videos().list(part=\"snippet\", id=video_id)\n",
        "    response = request.execute()\n",
        "    video_title = response[\"items\"][0][\"snippet\"][\"title\"]\n",
        "    print(f\"Video Title: {video_title}\")\n",
        "except Exception as e:\n",
        "    print(e)\n",
        "    video_title = \"INSERT VIDEO NAME\"\n",
        "    if video_title == \"INSERT VIDEO NAME\":\n",
        "        raise ValueError(\"Please replace 'INSERT VIDEO NAME' manually and re-run the cell.\")"
      ],
      "metadata": {
        "id": "NOEDF3vj6tIp",
        "colab": {
          "base_uri": "https://localhost:8080/"
        },
        "outputId": "ff016dde-5d0c-4e0a-adf2-32bf6e1404b0"
      },
      "execution_count": null,
      "outputs": [
        {
          "output_type": "stream",
          "name": "stdout",
          "text": [
            "Video Title: How to use the Open In Colab badge generator\n"
          ]
        }
      ]
    },
    {
      "cell_type": "code",
      "source": [
        "!pip install youtube-transcript-api\n",
        "# https://github.com/jdepoix/youtube-transcript-api\n",
        "from youtube_transcript_api import YouTubeTranscriptApi\n",
        "ytt_api = YouTubeTranscriptApi()"
      ],
      "metadata": {
        "id": "nJCw1Ge9mJ1R",
        "colab": {
          "base_uri": "https://localhost:8080/"
        },
        "outputId": "5db0707e-f168-4a9b-ff97-42d4682abf2f"
      },
      "execution_count": null,
      "outputs": [
        {
          "output_type": "stream",
          "name": "stdout",
          "text": [
            "Collecting youtube-transcript-api\n",
            "  Downloading youtube_transcript_api-1.2.2-py3-none-any.whl.metadata (24 kB)\n",
            "Requirement already satisfied: defusedxml<0.8.0,>=0.7.1 in /usr/local/lib/python3.11/dist-packages (from youtube-transcript-api) (0.7.1)\n",
            "Requirement already satisfied: requests in /usr/local/lib/python3.11/dist-packages (from youtube-transcript-api) (2.32.3)\n",
            "Requirement already satisfied: charset-normalizer<4,>=2 in /usr/local/lib/python3.11/dist-packages (from requests->youtube-transcript-api) (3.4.2)\n",
            "Requirement already satisfied: idna<4,>=2.5 in /usr/local/lib/python3.11/dist-packages (from requests->youtube-transcript-api) (3.10)\n",
            "Requirement already satisfied: urllib3<3,>=1.21.1 in /usr/local/lib/python3.11/dist-packages (from requests->youtube-transcript-api) (2.5.0)\n",
            "Requirement already satisfied: certifi>=2017.4.17 in /usr/local/lib/python3.11/dist-packages (from requests->youtube-transcript-api) (2025.8.3)\n",
            "Downloading youtube_transcript_api-1.2.2-py3-none-any.whl (485 kB)\n",
            "\u001b[?25l   \u001b[90m━━━━━━━━━━━━━━━━━━━━━━━━━━━━━━━━━━━━━━━━\u001b[0m \u001b[32m0.0/485.0 kB\u001b[0m \u001b[31m?\u001b[0m eta \u001b[36m-:--:--\u001b[0m\r\u001b[2K   \u001b[90m━━━━━━━━━━━━━━━━━━━━━━━━━━━━━━━━━━━━━━━━\u001b[0m \u001b[32m485.0/485.0 kB\u001b[0m \u001b[31m18.8 MB/s\u001b[0m eta \u001b[36m0:00:00\u001b[0m\n",
            "\u001b[?25hInstalling collected packages: youtube-transcript-api\n",
            "Successfully installed youtube-transcript-api-1.2.2\n"
          ]
        }
      ]
    },
    {
      "cell_type": "code",
      "source": [
        "transcript = ytt_api.fetch(video_id, languages=('en', 'en-US'))"
      ],
      "metadata": {
        "id": "NWvc2bUEj0bP"
      },
      "execution_count": null,
      "outputs": []
    },
    {
      "cell_type": "code",
      "source": [
        "data = transcript.to_raw_data()\n",
        "content = \"\"\n",
        "for i in data:\n",
        "  content += i[\"text\"] + \"\\n\""
      ],
      "metadata": {
        "id": "c3sqw-67hJvL"
      },
      "execution_count": null,
      "outputs": []
    },
    {
      "cell_type": "code",
      "source": [
        "content"
      ],
      "metadata": {
        "id": "YahDc89bY4Ou",
        "colab": {
          "base_uri": "https://localhost:8080/",
          "height": 87
        },
        "outputId": "d54e625c-f510-474d-e9ea-2f5cd8ff3111"
      },
      "execution_count": null,
      "outputs": [
        {
          "output_type": "execute_result",
          "data": {
            "text/plain": [
              "\"how to use the open in colab batch\\ngenerator so visit any\\njupiter notebook in github\\nscroll up to the address bar and copy\\nthe url\\nthen you'll go ahead and visit\\nopenincolab.com\\nin the text box on the left paste the\\nurl and click the generate button and\\nthat's all you have to do now you have\\nsome html that you can copy to the\\nclipboard and use in your\\nwebsite github file or readme anything\\nelse you like and you can also click on\\nthis test badge to make sure it works as\\nexpected and in this case we ended up in\\nthe exact same notebook we started with\\nexcept instead of\\nviewing it in github we're now actually\\nrunning it in collab\\n\""
            ],
            "application/vnd.google.colaboratory.intrinsic+json": {
              "type": "string"
            }
          },
          "metadata": {},
          "execution_count": 6
        }
      ]
    },
    {
      "cell_type": "code",
      "source": [
        "doc = docs_service.documents().create(body={'title': video_title + \" Transcript\"}).execute()\n",
        "document_id = doc.get('documentId')\n",
        "requests = [{'insertText': {'location': {'index': 1}, 'text': content}}]\n",
        "_ = docs_service.documents().batchUpdate(documentId=document_id, body={'requests': requests}).execute()\n",
        "print(f\"Shareable link: https://docs.google.com/document/d/{document_id}/edit\")"
      ],
      "metadata": {
        "id": "ybvppMHRYKGR",
        "colab": {
          "base_uri": "https://localhost:8080/"
        },
        "outputId": "8a914ce2-ef1f-451d-8e99-a394b20d1f33"
      },
      "execution_count": null,
      "outputs": [
        {
          "output_type": "stream",
          "name": "stdout",
          "text": [
            "Shareable link: https://docs.google.com/document/d/1-qj9OBguQXhQJDAt83pHKPKhejpjA3Oz5BmTSreg6gs/edit\n"
          ]
        }
      ]
    },
    {
      "cell_type": "code",
      "source": [],
      "metadata": {
        "id": "EThiMIdpw4Te"
      },
      "execution_count": null,
      "outputs": []
    }
  ]
}