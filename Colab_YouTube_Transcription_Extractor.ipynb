{
 "cells": [
  {
   "cell_type": "markdown",
   "id": "1a4af0a6",
   "metadata": {},
   "source": [
    "This notebook has moved [here](https://github.com/DoIT-Artifical-Intelligence/colab-ytt-to-docs/blob/main/Colab_YouTube_Transcription_Extractor_And_Summarizer.ipynb)"
   ]
  }
 ],
 "metadata": {
  "language_info": {
   "name": "python"
  }
 },
 "nbformat": 4,
 "nbformat_minor": 5
}
