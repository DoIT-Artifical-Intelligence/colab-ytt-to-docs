{
  "cells": [
    {
      "cell_type": "markdown",
      "metadata": {
        "id": "CxuqP8MjqeN-"
      },
      "source": [
        "<a target=\"_blank\" href=\"https://colab.research.google.com/github/DoIT-Artifical-Intelligence/colab-ytt-to-docs/blob/main/Colab_YouTube_Transcription_Extractor_And_Summarizer.ipynb\">\n",
        "  <img src=\"https://colab.research.google.com/assets/colab-badge.svg\" alt=\"Open In Colab\"/>\n",
        "</a>"
      ]
    },
    {
      "cell_type": "code",
      "execution_count": null,
      "metadata": {
        "id": "_UJq0ki8qQJR"
      },
      "outputs": [],
      "source": [
        "import os\n",
        "\n",
        "notebook_id = os.environ.get(\"COLAB_NOTEBOOK_ID\", \"\")\n",
        "\n",
        "if \"github.com\" in notebook_id:\n",
        "    raise Exception(\n",
        "        \"This notebook must be run from Google Drive. \"\n",
        "        \"Please save a copy to your Drive ('File' > 'Save a copy in Drive') and run it from there.\"\n",
        "    )"
      ]
    },
    {
      "cell_type": "code",
      "execution_count": null,
      "metadata": {},
      "outputs": [],
      "source": [
        "# Update the link for the YouTuve video and the title (required if you don't have YOUTUBE_DATA_API_KEY set).\n",
        "# Now hit \"Run all\" at the top next the right pointing triangle\n",
        "YOUTUBE_URL = \"https://www.youtube.com/watch?v=XXXXXXXXXXX\"\n",
        "# YOUTUBE_URL = \"https://www.youtube.com/watch?v=KuPc06JgI_A\"\n",
        "VIDEO_TITLE_FALLBACK = \"INSERT VIDEO NAME\"\n",
        "# VIDEO_TITLE_FALLBACK = \"HGO Committee Session, 1/14/2025 #1\""
      ]
    },
    {
      "cell_type": "code",
      "execution_count": null,
      "metadata": {
        "id": "tjP-tm3QZlkn"
      },
      "outputs": [],
      "source": [
        "AI_SUMMARY = True  # Will only run if GEMINI_API_KEY exists in Secrets\n",
        "AI_MODEL = \"gemini-2.5-flash\"\n",
        "print(f\"{AI_MODEL=}\")\n",
        "PROMPT = (\n",
        "    f\"I have included a transcript for {YOUTUBE_URL} ({VIDEO_TITLE_FALLBACK})\"\n",
        "    \"\\n\\n\"\n",
        "    \"Can you please summarize this?\"\n",
        ")\n",
        "print(\"PROMPT=\")\n",
        "print(PROMPT)\n",
        "\n",
        "video_id = YOUTUBE_URL.split(\"v=\")[-1]\n",
        "if video_id == \"XXXXXXXXXXX\":\n",
        "    raise ValueError(\"Please add a valid YouTube url\")\n",
        "\n",
        "# approx costs (9/11/2025) per 1M tokens in USD\n",
        "costs = {\"gemini-2.5-flash input\": 0.3, \"gemini-2.5-flash output\": 2.5}"
      ]
    },
    {
      "cell_type": "code",
      "execution_count": null,
      "metadata": {
        "id": "NOEDF3vj6tIp"
      },
      "outputs": [],
      "source": [
        "from google.auth import default\n",
        "from google.colab import auth, runtime, userdata\n",
        "from googleapiclient.discovery import build\n",
        "\n",
        "auth.authenticate_user()\n",
        "creds, _ = default()\n",
        "docs_service = build(\"docs\", \"v1\", credentials=creds)\n",
        "drive_service = build(\"drive\", \"v3\", credentials=creds)\n",
        "\n",
        "try:\n",
        "    # To get a YOUTUBE_DATA_API_KEY go to\n",
        "    # https://console.cloud.google.com/marketplace/product/google/youtube.googleapis.com to enable the YouTube API\n",
        "    # Then go to https://console.cloud.google.com/apis/credentials to create an API key for YouTube Data API v3\n",
        "    # Go to the Secrets on the left (image of a key) and your YouTube Data API Key there.\n",
        "    youtube_service = build(\n",
        "        \"youtube\", \"v3\", developerKey=userdata.get(\"YOUTUBE_DATA_API_KEY\")\n",
        "    )\n",
        "    request = youtube_service.videos().list(part=\"snippet\", id=video_id)\n",
        "    response = request.execute()\n",
        "    video_title = response[\"items\"][0][\"snippet\"][\"title\"]\n",
        "    print(f\"Video Title: {video_title}\")\n",
        "    PROMPT = PROMPT.replace(VIDEO_TITLE_FALLBACK, video_title)\n",
        "except Exception as e:\n",
        "    print(e)\n",
        "    video_title = VIDEO_TITLE_FALLBACK\n",
        "    if video_title == \"INSERT VIDEO NAME\":\n",
        "        raise ValueError(\n",
        "            \"Please replace 'INSERT VIDEO NAME' manually and re-run the cell.\"\n",
        "        )"
      ]
    },
    {
      "cell_type": "code",
      "execution_count": null,
      "metadata": {
        "id": "nJCw1Ge9mJ1R"
      },
      "outputs": [],
      "source": [
        "!pip install youtube-transcript-api --quiet\n",
        "# https://github.com/jdepoix/youtube-transcript-api\n",
        "from youtube_transcript_api import YouTubeTranscriptApi\n",
        "ytt_api = YouTubeTranscriptApi()"
      ]
    },
    {
      "cell_type": "code",
      "execution_count": null,
      "metadata": {
        "id": "NWvc2bUEj0bP"
      },
      "outputs": [],
      "source": [
        "transcript = ytt_api.fetch(video_id, languages=('en', 'en-US'))"
      ]
    },
    {
      "cell_type": "code",
      "execution_count": null,
      "metadata": {
        "id": "c3sqw-67hJvL"
      },
      "outputs": [],
      "source": [
        "data = transcript.to_raw_data()\n",
        "len_data = len(data)\n",
        "content = \"\"\n",
        "for index, _data in enumerate(data):\n",
        "    if index + 1 == len_data:\n",
        "        content += _data[\"text\"]\n",
        "    else:\n",
        "        content += _data[\"text\"] + \" \"\n",
        "content"
      ]
    },
    {
      "cell_type": "code",
      "execution_count": null,
      "metadata": {
        "id": "ybvppMHRYKGR"
      },
      "outputs": [],
      "source": [
        "doc = (\n",
        "    docs_service.documents()\n",
        "    .create(body={\"title\": video_title + \" Transcript\"})\n",
        "    .execute()\n",
        ")\n",
        "document_id = doc.get(\"documentId\")\n",
        "requests = [{\"insertText\": {\"location\": {\"index\": 1}, \"text\": content}}]\n",
        "docs_service.documents().batchUpdate(\n",
        "    documentId=document_id, body={\"requests\": requests}\n",
        ").execute()\n",
        "transcript_url = f\"https://docs.google.com/document/d/{document_id}\"\n",
        "print(f\"Shareable link: {transcript_url}\")"
      ]
    },
    {
      "cell_type": "code",
      "execution_count": null,
      "metadata": {
        "id": "EThiMIdpw4Te"
      },
      "outputs": [],
      "source": [
        "if not AI_SUMMARY:\n",
        "    runtime.unassign()\n",
        "try:\n",
        "    # To get a GEMINI_API_KEY go to\n",
        "    # https://console.cloud.google.com/marketplace/product/google/generativelanguage.googleapis.com to enable the Gemini  API\n",
        "    # Then go to https://console.cloud.google.com/apis/credentials to create an API key for Generative Language API\n",
        "    # Go to the Secrets on the left (image of a key) and your Gemini API Key there.\n",
        "    GEMINI_API_KEY = userdata.get(\"GEMINI_API_KEY\")\n",
        "except userdata.SecretNotFoundError:\n",
        "    runtime.unassign()   "
      ]
    },
    {
      "cell_type": "code",
      "execution_count": null,
      "metadata": {},
      "outputs": [],
      "source": [
        "!pip install google-genai --quiet"
      ]
    },
    {
      "cell_type": "code",
      "execution_count": null,
      "metadata": {},
      "outputs": [],
      "source": [
        "from google import genai\n",
        "from google.genai import types\n",
        "\n",
        "client = genai.Client(api_key=GEMINI_API_KEY)\n",
        "model = AI_MODEL\n",
        "prompt = PROMPT + f\"/n/n{content}\"\n",
        "contents = [types.Content(role=\"user\", parts=[types.Part.from_text(text=prompt)])]\n",
        "total_tokens = client.models.count_tokens(model=AI_MODEL, contents=prompt).total_tokens\n",
        "print(f\"Total input tokens: {total_tokens:,}\")\n",
        "input_cost = (total_tokens / 1_000_000) * costs[f'{AI_MODEL} input']\n",
        "print(f\"Input cost: ${input_cost:.4f}\")"
      ]
    },
    {
      "cell_type": "code",
      "execution_count": null,
      "metadata": {},
      "outputs": [],
      "source": [
        "response = client.models.generate_content(\n",
        "    model=model,\n",
        "    contents=contents,\n",
        ")\n",
        "output_cost = (response.usage_metadata.total_token_count / 1_000_000) * costs[\n",
        "    f\"{AI_MODEL} output\"\n",
        "]\n",
        "print(f\"Total cost: ${output_cost:.4f}\")\n",
        "ai_summary = response.text\n",
        "ai_summary"
      ]
    },
    {
      "cell_type": "code",
      "execution_count": null,
      "metadata": {},
      "outputs": [],
      "source": [
        "from datetime import datetime\n",
        "from googleapiclient.http import MediaFileUpload\n",
        "\n",
        "italicized_prompt = '\\n\\n'.join([f\"*{line}*\" for line in PROMPT.split('\\n\\n')])\n",
        "header = (\n",
        "    f\"*The summary below was generated on {datetime.now().strftime('%Y-%m-%d')} by AI using {AI_MODEL} with the prompt:*\\n\\n'{italicized_prompt}\\n\\n*{{ TRANSCRIPT }}'*\\n\\n\"\n",
        "    f\"*The data used was the YouTube transcript which was extracted to a Google Doc [here]({transcript_url}).*\\n\\n\"\n",
        "    \"*The source code which created this document can be found [here](https://github.com/DoIT-Artifical-Intelligence/colab-ytt-to-docs).*\\n\\n---\\n\\n\"\n",
        ")\n",
        "\n",
        "temp_md_filename = \"tmp.md\"\n",
        "with open(temp_md_filename, \"w\", encoding=\"utf-8\") as f:\n",
        "    f.write(header + ai_summary)\n",
        "try:\n",
        "    file_metadata = {\n",
        "        \"name\": video_title + \" AI Summary\",\n",
        "        \"mimeType\": \"application/vnd.google-apps.document\",\n",
        "    }\n",
        "    media = MediaFileUpload(temp_md_filename, mimetype=\"text/markdown\", resumable=True)\n",
        "    doc = (\n",
        "        drive_service.files()\n",
        "        .create(body=file_metadata, media_body=media, fields=\"id, webViewLink\")\n",
        "        .execute()\n",
        "    )\n",
        "    shareable_link = doc.get(\"webViewLink\")\n",
        "    print(f\"Shareable link: {shareable_link}\")\n",
        "finally:\n",
        "    os.remove(temp_md_filename)"
      ]
    },
    {
      "cell_type": "code",
      "execution_count": null,
      "metadata": {},
      "outputs": [],
      "source": [
        "runtime.unassign()"
      ]
    }
  ],
  "metadata": {
    "colab": {
      "provenance": []
    },
    "kernelspec": {
      "display_name": "Python 3",
      "name": "python3"
    },
    "language_info": {
      "name": "python"
    }
  },
  "nbformat": 4,
  "nbformat_minor": 0
}
